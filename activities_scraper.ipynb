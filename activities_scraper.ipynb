{
 "cells": [
  {
   "cell_type": "markdown",
   "metadata": {},
   "source": [
    "# Activities Scraper"
   ]
  },
  {
   "cell_type": "code",
   "execution_count": 1,
   "metadata": {},
   "outputs": [],
   "source": [
    "import pandas as pd\n",
    "import re\n",
    "import numpy as np\n",
    "from matplotlib import pyplot as plt\n",
    "\n",
    "import selenium\n",
    "from selenium import webdriver\n",
    "from selenium.webdriver.common.keys import Keys\n",
    "from selenium.webdriver.chrome.options import Options\n",
    "from selenium.webdriver.chrome.service import Service as ChromeService\n",
    "from webdriver_manager.chrome import ChromeDriverManager\n",
    "from selenium.webdriver.common.by import By\n"
   ]
  },
  {
   "cell_type": "code",
   "execution_count": 4,
   "metadata": {},
   "outputs": [
    {
     "data": {
      "text/plain": [
       "62"
      ]
     },
     "execution_count": 4,
     "metadata": {},
     "output_type": "execute_result"
    }
   ],
   "source": [
    "species = pd.read_csv('all_species_112222.csv')\n",
    "\n",
    "# all np codes\n",
    "park_codes = species['Park Code'].unique()\n",
    "len(park_codes)"
   ]
  },
  {
   "cell_type": "code",
   "execution_count": 5,
   "metadata": {},
   "outputs": [],
   "source": [
    "driver = webdriver.Chrome(service=ChromeService(executable_path=ChromeDriverManager().install()))"
   ]
  },
  {
   "cell_type": "markdown",
   "metadata": {},
   "source": [
    "### Pull activities for all parks"
   ]
  },
  {
   "cell_type": "code",
   "execution_count": 39,
   "metadata": {},
   "outputs": [],
   "source": [
    "def pull_activities(code):\n",
    "    driver.get(\"https://www.nps.gov/{}/planyourvisit/things2do.htm\".format(code))\n",
    "    activities_txt = []\n",
    "\n",
    "    if len(activities_txt) == 0:\n",
    "        activities_web = driver.find_elements(By.XPATH, '//h2[@class=\"Feature-title carrot-end\"]')\n",
    "        activities_txt = [b.text for b in activities_web]\n",
    "\n",
    "    if len(activities_txt) == 0:\n",
    "        activities_web = driver.find_elements(By.XPATH, '//h3[@class=\"ListingResults-title\"]')\n",
    "        activities_txt = [b.text for b in activities_web]\n",
    "    if len(activities_txt) == 0:\n",
    "        activities_web = driver.find_elements(By.XPATH, '//h3[@class=\"ListingResults-title\"]')\n",
    "        activities_txt = [b.text for b in activities_web]\n",
    "    if len(activities_txt) == 0:\n",
    "        # for bibe, glacier\n",
    "        activities_web = driver.find_elements(By.XPATH, '//h3[@class=\"ActivityListing-title\"]')\n",
    "        activities_txt = [b.text for b in activities_web]\n",
    "    if len(activities_txt) == 0:\n",
    "        activities_web = driver.find_elements(By.XPATH, '//h2[@class=\"Feature-title carrot-end\"]')\n",
    "        activities_txt = [b.text for b in activities_web]\n",
    "\n",
    "    if len(activities_txt) == 0:\n",
    "        # for arches, canyonlands, congaree. everg, gb\n",
    "        activities_links = driver.find_elements(By.CSS_SELECTOR, \"a[id^=CP___PAGEID]\")\n",
    "        activities_txt = [b.text for b in activities_links]\n",
    "        \n",
    "        #bisc has to click on outdoor activities\n",
    "    if len(activities_txt) == 0:\n",
    "        # for bryce\n",
    "        activities_web = driver.find_elements(By.XPATH, '//h3[@class=\"ListingResults-title\"]')\n",
    "        activities_txt = [b.text for b in activities_web]\n",
    "    #if len(activities_txt) == 0:\n",
    "\n",
    "    #if len(activities_txt) == 0:\n",
    "    #    activities_web = driver.find_elements(By.XPATH, '//h3[@class=\"ListingResults-title\"]')\n",
    "    #    activities_txt = [b.text for b in activities_web]\n",
    "        \n",
    "    return activities_txt"
   ]
  },
  {
   "cell_type": "code",
   "execution_count": 40,
   "metadata": {},
   "outputs": [
    {
     "data": {
      "text/html": [
       "<div>\n",
       "<style scoped>\n",
       "    .dataframe tbody tr th:only-of-type {\n",
       "        vertical-align: middle;\n",
       "    }\n",
       "\n",
       "    .dataframe tbody tr th {\n",
       "        vertical-align: top;\n",
       "    }\n",
       "\n",
       "    .dataframe thead th {\n",
       "        text-align: right;\n",
       "    }\n",
       "</style>\n",
       "<table border=\"1\" class=\"dataframe\">\n",
       "  <thead>\n",
       "    <tr style=\"text-align: right;\">\n",
       "      <th></th>\n",
       "      <th>park</th>\n",
       "      <th>activities</th>\n",
       "    </tr>\n",
       "  </thead>\n",
       "  <tbody>\n",
       "    <tr>\n",
       "      <th>0</th>\n",
       "      <td>ACAD</td>\n",
       "      <td>[Hiking in Acadia, Bicycling, Birdwatching, St...</td>\n",
       "    </tr>\n",
       "    <tr>\n",
       "      <th>1</th>\n",
       "      <td>ARCH</td>\n",
       "      <td>[Auto Touring, Backpacking, Biking, Camping, C...</td>\n",
       "    </tr>\n",
       "    <tr>\n",
       "      <th>2</th>\n",
       "      <td>BADL</td>\n",
       "      <td>[]</td>\n",
       "    </tr>\n",
       "    <tr>\n",
       "      <th>3</th>\n",
       "      <td>BIBE</td>\n",
       "      <td>[Suggested Itineraries, Big Bend Top Ten Tips,...</td>\n",
       "    </tr>\n",
       "    <tr>\n",
       "      <th>4</th>\n",
       "      <td>BISC</td>\n",
       "      <td>[Guided Tours, Indoor Activities, For Kids]</td>\n",
       "    </tr>\n",
       "    <tr>\n",
       "      <th>...</th>\n",
       "      <td>...</td>\n",
       "      <td>...</td>\n",
       "    </tr>\n",
       "    <tr>\n",
       "      <th>57</th>\n",
       "      <td>NPSA</td>\n",
       "      <td>[Learn more about the Homestay program.]</td>\n",
       "    </tr>\n",
       "    <tr>\n",
       "      <th>58</th>\n",
       "      <td>NERI</td>\n",
       "      <td>[Camping, Whitewater, Hiking Trails, Biking, C...</td>\n",
       "    </tr>\n",
       "    <tr>\n",
       "      <th>59</th>\n",
       "      <td>VIIS</td>\n",
       "      <td>[Ranger Programs and Guided Tours!, Interactiv...</td>\n",
       "    </tr>\n",
       "    <tr>\n",
       "      <th>60</th>\n",
       "      <td>WHSA</td>\n",
       "      <td>[Backcountry Camping, Bicycling, Driving Dunes...</td>\n",
       "    </tr>\n",
       "    <tr>\n",
       "      <th>61</th>\n",
       "      <td>KICA</td>\n",
       "      <td>[]</td>\n",
       "    </tr>\n",
       "  </tbody>\n",
       "</table>\n",
       "<p>62 rows × 2 columns</p>\n",
       "</div>"
      ],
      "text/plain": [
       "    park                                         activities\n",
       "0   ACAD  [Hiking in Acadia, Bicycling, Birdwatching, St...\n",
       "1   ARCH  [Auto Touring, Backpacking, Biking, Camping, C...\n",
       "2   BADL                                                 []\n",
       "3   BIBE  [Suggested Itineraries, Big Bend Top Ten Tips,...\n",
       "4   BISC        [Guided Tours, Indoor Activities, For Kids]\n",
       "..   ...                                                ...\n",
       "57  NPSA           [Learn more about the Homestay program.]\n",
       "58  NERI  [Camping, Whitewater, Hiking Trails, Biking, C...\n",
       "59  VIIS  [Ranger Programs and Guided Tours!, Interactiv...\n",
       "60  WHSA  [Backcountry Camping, Bicycling, Driving Dunes...\n",
       "61  KICA                                                 []\n",
       "\n",
       "[62 rows x 2 columns]"
      ]
     },
     "execution_count": 40,
     "metadata": {},
     "output_type": "execute_result"
    }
   ],
   "source": [
    "activities_df = pd.DataFrame()\n",
    "activities_df['park'] = park_codes\n",
    "activities_df['activities'] = [pull_activities(c) for c in activities_df['park']]\n",
    "activities_df"
   ]
  },
  {
   "cell_type": "markdown",
   "metadata": {},
   "source": [
    "### Manually Add Some Activities"
   ]
  },
  {
   "cell_type": "markdown",
   "metadata": {},
   "source": [
    "Note: you have to wait until driver.get() cell finishes loading before extracting from elements"
   ]
  },
  {
   "cell_type": "code",
   "execution_count": 41,
   "metadata": {},
   "outputs": [],
   "source": [
    "# add bisc manually\n",
    "driver.get(\"https://www.nps.gov/{}/planyourvisit/things2do.htm\".format(park_codes[4]))"
   ]
  },
  {
   "cell_type": "code",
   "execution_count": 42,
   "metadata": {},
   "outputs": [
    {
     "data": {
      "text/plain": [
       "['Fishing and Lobstering',\n",
       " 'Convoy Point Jetty Walk (Self Guided)',\n",
       " 'Wildlife Watching',\n",
       " 'Biscayne Birding Trail',\n",
       " 'Guided Tours',\n",
       " 'Canoeing and Kayaking',\n",
       " 'Snorkeling and Diving',\n",
       " 'Boating',\n",
       " 'Camping',\n",
       " 'Wildlife Watching',\n",
       " 'Biscayne Birding Trail',\n",
       " 'Learning']"
      ]
     },
     "execution_count": 42,
     "metadata": {},
     "output_type": "execute_result"
    }
   ],
   "source": [
    "driver.find_elements(By.XPATH, '//a[@id=\"anch_16\"]')[0].click()\n",
    "first_act = driver.find_elements(By.CSS_SELECTOR, \"a[id*=planyourvisit]\")\n",
    "more_act = driver.find_elements(By.CSS_SELECTOR, \"a[id^=CP___PAGEID]\")\n",
    "activities_links = first_act + more_act\n",
    "bisc_activities_txt = [b.text for b in activities_links]\n",
    "bisc_activities_txt"
   ]
  },
  {
   "cell_type": "code",
   "execution_count": 43,
   "metadata": {},
   "outputs": [],
   "source": [
    "#driver.get(\"https://www.nps.gov/{}/planyourvisit/things2do.htm\".format('NPSA'))\n",
    "driver.get(\"https://www.nps.gov/{}/planyourvisit/things2do.htm\".format(park_codes[2]))"
   ]
  },
  {
   "cell_type": "code",
   "execution_count": 44,
   "metadata": {},
   "outputs": [
    {
     "data": {
      "text/plain": [
       "['Visit the Ben Reifel Visitor Center',\n",
       " 'Visit the White River Visitor Center',\n",
       " 'Visit the Fossil Preparation Lab',\n",
       " 'Enjoy the Night Sky',\n",
       " 'Spotting Wildlife in the Badlands',\n",
       " 'Drive Around the South Unit of the Badlands',\n",
       " 'Drive Sage Creek Rim Road',\n",
       " 'Drive Badlands Loop Road (Highway 240)',\n",
       " 'Badlands Sunrises & Sunsets',\n",
       " 'Become a Badlands Junior Ranger',\n",
       " 'Badlands Ranger Programs',\n",
       " 'Badlands Astronomy Festival',\n",
       " 'Campgrounds',\n",
       " 'Hiking Badlands Back Roads With Your Dog',\n",
       " 'Horseback Riding',\n",
       " 'Hiking the Badlands',\n",
       " 'Explore Sheep Mountain Table',\n",
       " 'Drive Sage Creek Rim Road',\n",
       " 'Bicycling in the Badlands',\n",
       " 'GPS Adventure',\n",
       " 'Badlands Ranger Programs',\n",
       " 'Badlands Astronomy Festival',\n",
       " 'Badlands BADLibs',\n",
       " 'Become a Badlands Junior Ranger',\n",
       " 'GPS Adventure',\n",
       " 'Pick Your Park Adventure in the Badlands']"
      ]
     },
     "execution_count": 44,
     "metadata": {},
     "output_type": "execute_result"
    }
   ],
   "source": [
    "badl_activities= driver.find_elements(By.XPATH, '//h3[@class=\"ListingResults-title\"]')\n",
    "badl_txt = [b.text for b in badl_activities]\n",
    "badl_txt"
   ]
  },
  {
   "cell_type": "code",
   "execution_count": 45,
   "metadata": {},
   "outputs": [],
   "source": [
    "driver.get(\"https://www.nps.gov/{}/planyourvisit/things2do.htm\".format(park_codes[6]))"
   ]
  },
  {
   "cell_type": "code",
   "execution_count": 46,
   "metadata": {},
   "outputs": [
    {
     "data": {
      "text/plain": [
       "['See the Bryce Amphitheater',\n",
       " 'Drive the Southern Scenic Drive',\n",
       " 'See the Night Sky',\n",
       " 'Get Your Junior Ranger Badge',\n",
       " 'Day Hikes',\n",
       " 'Ride the Shared-use Path',\n",
       " 'Go Horseback Riding',\n",
       " 'Walk the Rim Trail',\n",
       " 'Explore the Visitor Center Museum',\n",
       " 'View Wildlife']"
      ]
     },
     "execution_count": 46,
     "metadata": {},
     "output_type": "execute_result"
    }
   ],
   "source": [
    "brca_activities=driver.find_elements(By.XPATH, '//h3[@class=\"ListingResults-title\"]')\n",
    "brca_txt = [b.text for b in brca_activities]\n",
    "brca_txt"
   ]
  },
  {
   "cell_type": "code",
   "execution_count": 47,
   "metadata": {},
   "outputs": [],
   "source": [
    "prk = activities_df.iloc[51]\n",
    "driver.get(\"https://www.nps.gov/{}/planyourvisit/things2do.htm\".format(park_codes[51]))"
   ]
  },
  {
   "cell_type": "code",
   "execution_count": 48,
   "metadata": {},
   "outputs": [
    {
     "data": {
      "text/plain": [
       "[\"Visit Wind Cave's Natural Entrance\",\n",
       " 'Pet Friendly Hikes',\n",
       " 'Hiking at Wind Cave',\n",
       " 'Watch Wind Cave Wildlife',\n",
       " 'Become a Wind Cave Junior Ranger',\n",
       " 'Explore Where the Bison Roam',\n",
       " 'See the Prairie Dog in their Prairie Dog Towns',\n",
       " 'Backcountry Camping at Wind Cave',\n",
       " 'Bike Wind Cave',\n",
       " 'Wind Cave Geology Driving Tour',\n",
       " 'Bird Watching in Wind Cave',\n",
       " 'Picnic at Wind Cave',\n",
       " 'Listen For Bugling Elk',\n",
       " 'Horseback Riding in Wind Cave']"
      ]
     },
     "execution_count": 48,
     "metadata": {},
     "output_type": "execute_result"
    }
   ],
   "source": [
    "wica_activities= driver.find_elements(By.XPATH, '//h3[@class=\"ListingResults-title\"]')\n",
    "wica_txt = [b.text for b in wica_activities]\n",
    "wica_txt"
   ]
  },
  {
   "cell_type": "code",
   "execution_count": 49,
   "metadata": {},
   "outputs": [],
   "source": [
    "driver.get(\"https://www.nps.gov/{}/planyourvisit/things2do.htm\".format('GAAR'))"
   ]
  },
  {
   "cell_type": "code",
   "execution_count": 50,
   "metadata": {},
   "outputs": [
    {
     "data": {
      "text/plain": [
       "['Backpacking and Hiking',\n",
       " 'Birding',\n",
       " 'Camping',\n",
       " 'Wild and Scenic Rivers',\n",
       " 'Hunting']"
      ]
     },
     "execution_count": 50,
     "metadata": {},
     "output_type": "execute_result"
    }
   ],
   "source": [
    "gaar_activities= driver.find_elements(By.XPATH, '//a[@class=\"FourthLevelNav-link\"]')\n",
    "gaar_txt = [b.text for b in gaar_activities]\n",
    "gaar_txt"
   ]
  },
  {
   "cell_type": "code",
   "execution_count": 51,
   "metadata": {},
   "outputs": [],
   "source": [
    "driver.get(\"https://www.nps.gov/{}/planyourvisit/things2do.htm\".format(park_codes[39]))"
   ]
  },
  {
   "cell_type": "code",
   "execution_count": 52,
   "metadata": {},
   "outputs": [
    {
     "data": {
      "text/plain": [
       "['Wilderness Hiking, Camping, & Climbing',\n",
       " 'Campgrounds',\n",
       " 'Climbing',\n",
       " 'Day Hiking',\n",
       " 'Trails of Mount Rainier',\n",
       " 'Winter Recreation',\n",
       " 'Discover Wildflowers',\n",
       " 'Bicycling',\n",
       " 'Fishing & Boating',\n",
       " 'Virtual Passport Stamp',\n",
       " 'Citizen Ranger Quests',\n",
       " 'Volunteer']"
      ]
     },
     "execution_count": 52,
     "metadata": {},
     "output_type": "execute_result"
    }
   ],
   "source": [
    "\n",
    "mora_activities = driver.find_elements(By.XPATH, '//h2[@class=\"Feature-title carrot-end\"]')\n",
    "mora_txt = [b.text for b in mora_activities]\n",
    "mora_txt"
   ]
  },
  {
   "cell_type": "code",
   "execution_count": 53,
   "metadata": {},
   "outputs": [],
   "source": [
    "driver.get(\"https://www.nps.gov/{}/planyourvisit/things2do.htm\".format('CUVA'))"
   ]
  },
  {
   "cell_type": "code",
   "execution_count": 54,
   "metadata": {},
   "outputs": [],
   "source": [
    "driver.find_elements(By.XPATH, '//a[@id=\"anch_16\"]')[0].click()"
   ]
  },
  {
   "cell_type": "code",
   "execution_count": 55,
   "metadata": {},
   "outputs": [
    {
     "data": {
      "text/plain": [
       "['Hiking',\n",
       " 'Biking',\n",
       " 'Paddling the River',\n",
       " 'Birding',\n",
       " 'Picnicking',\n",
       " 'Fishing',\n",
       " 'Horseback Riding',\n",
       " 'Questing',\n",
       " 'Night Sky Viewing',\n",
       " 'Golfing',\n",
       " 'Winter Sports in Cuyahoga Valley']"
      ]
     },
     "execution_count": 55,
     "metadata": {},
     "output_type": "execute_result"
    }
   ],
   "source": [
    "cuva_web = driver.find_elements(By.XPATH, '//h3[@class=\"ActivityListing-title\"]')\n",
    "cuva_txt = [b.text for b in cuva_web]\n",
    "cuva_txt"
   ]
  },
  {
   "cell_type": "code",
   "execution_count": 56,
   "metadata": {},
   "outputs": [],
   "source": [
    "driver.get(\"https://www.nps.gov/{}/planyourvisit/things2do.htm\".format(park_codes[8]))"
   ]
  },
  {
   "cell_type": "code",
   "execution_count": 57,
   "metadata": {},
   "outputs": [],
   "source": [
    "driver.find_elements(By.XPATH, '//a[@id=\"anch_19\"]')[0].click()"
   ]
  },
  {
   "cell_type": "code",
   "execution_count": 58,
   "metadata": {},
   "outputs": [
    {
     "data": {
      "text/plain": [
       "['Hiking in Fruita',\n",
       " 'Hiking in the Waterpocket District',\n",
       " 'Hiking in Cathedral Valley',\n",
       " 'Road Tours',\n",
       " 'Bicycle Touring',\n",
       " 'Horseback Riding',\n",
       " 'Canyoneering',\n",
       " 'Rock Climbing & Bouldering',\n",
       " 'Permits',\n",
       " 'Your Safety',\n",
       " 'Camping',\n",
       " 'International Dark Sky Park']"
      ]
     },
     "execution_count": 58,
     "metadata": {},
     "output_type": "execute_result"
    }
   ],
   "source": [
    "care_web = driver.find_elements(By.XPATH, '//h3[@class=\"ActivityListing-title\"]')\n",
    "care_txt = [b.text for b in care_web]\n",
    "care_txt"
   ]
  },
  {
   "cell_type": "code",
   "execution_count": 66,
   "metadata": {},
   "outputs": [],
   "source": [
    "driver.get(\"https://www.nps.gov/{}/planyourvisit/things2do.htm\".format('BIBE'))"
   ]
  },
  {
   "cell_type": "code",
   "execution_count": 67,
   "metadata": {},
   "outputs": [],
   "source": [
    "bibe_web = driver.find_elements(By.XPATH, '//h3[@class=\"ActivityListing-title\"]')\n",
    "bibe_txt = [b.text for b in bibe_web]"
   ]
  },
  {
   "cell_type": "code",
   "execution_count": null,
   "metadata": {},
   "outputs": [],
   "source": [
    "driver.get(\"https://www.nps.gov/{}/planyourvisit/things2do.htm\".format('WRST'))"
   ]
  },
  {
   "cell_type": "code",
   "execution_count": 86,
   "metadata": {},
   "outputs": [],
   "source": [
    "wrst_links = driver.find_elements(By.CSS_SELECTOR, \"a[id*=planyourvisit\")\n",
    "wrst_txt = [b.text for b in wrst_links]"
   ]
  },
  {
   "cell_type": "code",
   "execution_count": 92,
   "metadata": {},
   "outputs": [],
   "source": [
    "driver.get(\"https://www.nps.gov/{}/planyourvisit/things2do.htm\".format('SEKI'))"
   ]
  },
  {
   "cell_type": "code",
   "execution_count": 94,
   "metadata": {},
   "outputs": [],
   "source": [
    "seki_web = driver.find_elements(By.XPATH, '//h2[@class=\"Feature-title carrot-end\"]')\n",
    "seki_txt = [b.text for b in seki_web]"
   ]
  },
  {
   "cell_type": "code",
   "execution_count": 95,
   "metadata": {},
   "outputs": [],
   "source": [
    "activities_df.loc[2]['activities'] = badl_txt\n",
    "activities_df.loc[4]['activities'] = bisc_activities_txt\n",
    "activities_df.loc[6]['activities'] = brca_txt\n",
    "activities_df.loc[51]['activities'] = wica_txt\n",
    "activities_df.loc[18]['activities'] = gaar_txt\n",
    "activities_df.loc[39]['activities'] = mora_txt\n",
    "activities_df.loc[13]['activities'] = cuva_txt\n",
    "activities_df.loc[8]['activities'] = care_txt\n",
    "activities_df.loc[3]['activities'] = bibe_txt\n",
    "activities_df.loc[52]['activities'] = wrst_txt\n",
    "activities_df.loc[47]['activities'] = seki_txt\n",
    "activities_df.loc[61]['activities'] = seki_txt"
   ]
  },
  {
   "cell_type": "markdown",
   "metadata": {},
   "source": [
    "### Clean and Generalize Activities"
   ]
  },
  {
   "cell_type": "code",
   "execution_count": 96,
   "metadata": {},
   "outputs": [],
   "source": [
    "def get_clean_activities(original_activities):\n",
    "    cleaned_activities = []\n",
    "    hike = ['hik', 'trail']\n",
    "    drive = ['drive', 'auto', 'car']\n",
    "    stars = ['star', 'night']\n",
    "    canoe = ['canoe', 'kayak']\n",
    "    bike = ['bik', 'cycl']\n",
    "    patterns = ['backpack',  'camp', 'canyon', 'horse', 'photo', 'rock', 'boat', 'wildlife', 'fish', 'snorkel', 'diving', 'whale', 'bird', 'ski', 'backcountry']\n",
    "\n",
    "    match = ['Hiking', 'Backpacking', 'Camping', 'Canyoneering', 'Horseback Riding', 'Photography', 'Rock Climbing',\n",
    "            'Boating', 'Wildlife Viewing', 'Fishing', 'Snorkeling', 'Diving', 'Whale Watching', 'Bird Watching', \n",
    "            'Skiing', 'Backcountry Camping']\n",
    "\n",
    "    for i in original_activities:\n",
    "        for x in range(len(patterns)):\n",
    "\n",
    "            if any(patterns[x] in s for s in i.lower().split()):\n",
    "                cleaned_activities.append(match[x])\n",
    "\n",
    "            elif any(s in i.lower() for s in hike):\n",
    "                cleaned_activities.append('Hiking')\n",
    "            \n",
    "            elif any(s in i.lower() for s in drive):\n",
    "                cleaned_activities.append('Scenic Drives')\n",
    "\n",
    "            elif any(s in i.lower() for s in stars):\n",
    "                cleaned_activities.append('Stargazing')\n",
    "\n",
    "            elif any(s in i.lower() for s in canoe):\n",
    "                cleaned_activities.append('Canoeing/Kayaking')\n",
    "            \n",
    "            elif any(s in i.lower() for s in bike):\n",
    "                cleaned_activities.append('Biking')\n",
    "    return list(set(cleaned_activities))"
   ]
  },
  {
   "cell_type": "code",
   "execution_count": 97,
   "metadata": {},
   "outputs": [
    {
     "data": {
      "text/html": [
       "<div>\n",
       "<style scoped>\n",
       "    .dataframe tbody tr th:only-of-type {\n",
       "        vertical-align: middle;\n",
       "    }\n",
       "\n",
       "    .dataframe tbody tr th {\n",
       "        vertical-align: top;\n",
       "    }\n",
       "\n",
       "    .dataframe thead th {\n",
       "        text-align: right;\n",
       "    }\n",
       "</style>\n",
       "<table border=\"1\" class=\"dataframe\">\n",
       "  <thead>\n",
       "    <tr style=\"text-align: right;\">\n",
       "      <th></th>\n",
       "      <th>park</th>\n",
       "      <th>activities</th>\n",
       "      <th>cleaned</th>\n",
       "    </tr>\n",
       "  </thead>\n",
       "  <tbody>\n",
       "    <tr>\n",
       "      <th>0</th>\n",
       "      <td>ACAD</td>\n",
       "      <td>[Hiking in Acadia, Bicycling, Birdwatching, St...</td>\n",
       "      <td>[Stargazing, Hiking, Whale Watching, Rock Clim...</td>\n",
       "    </tr>\n",
       "    <tr>\n",
       "      <th>1</th>\n",
       "      <td>ARCH</td>\n",
       "      <td>[Auto Touring, Backpacking, Biking, Camping, C...</td>\n",
       "      <td>[Photography, Hiking, Stargazing, Horseback Ri...</td>\n",
       "    </tr>\n",
       "    <tr>\n",
       "      <th>2</th>\n",
       "      <td>BADL</td>\n",
       "      <td>[Visit the Ben Reifel Visitor Center, Visit th...</td>\n",
       "      <td>[Hiking, Stargazing, Boating, Backpacking, Sce...</td>\n",
       "    </tr>\n",
       "    <tr>\n",
       "      <th>3</th>\n",
       "      <td>BIBE</td>\n",
       "      <td>[Scenic Drives, Day Hikes, Big Bend River Trip...</td>\n",
       "      <td>[Bird Watching, Stargazing, Hiking, Whale Watc...</td>\n",
       "    </tr>\n",
       "    <tr>\n",
       "      <th>4</th>\n",
       "      <td>BISC</td>\n",
       "      <td>[Fishing and Lobstering, Convoy Point Jetty Wa...</td>\n",
       "      <td>[Hiking, Wildlife Viewing, Whale Watching, Sno...</td>\n",
       "    </tr>\n",
       "    <tr>\n",
       "      <th>...</th>\n",
       "      <td>...</td>\n",
       "      <td>...</td>\n",
       "      <td>...</td>\n",
       "    </tr>\n",
       "    <tr>\n",
       "      <th>57</th>\n",
       "      <td>NPSA</td>\n",
       "      <td>[Learn more about the Homestay program.]</td>\n",
       "      <td>[]</td>\n",
       "    </tr>\n",
       "    <tr>\n",
       "      <th>58</th>\n",
       "      <td>NERI</td>\n",
       "      <td>[Camping, Whitewater, Hiking Trails, Biking, C...</td>\n",
       "      <td>[Hiking, Wildlife Viewing, Backpacking, Scenic...</td>\n",
       "    </tr>\n",
       "    <tr>\n",
       "      <th>59</th>\n",
       "      <td>VIIS</td>\n",
       "      <td>[Ranger Programs and Guided Tours!, Interactiv...</td>\n",
       "      <td>[Fishing, Rock Climbing, Wildlife Viewing]</td>\n",
       "    </tr>\n",
       "    <tr>\n",
       "      <th>60</th>\n",
       "      <td>WHSA</td>\n",
       "      <td>[Backcountry Camping, Bicycling, Driving Dunes...</td>\n",
       "      <td>[Hiking, Horseback Riding, Backpacking, Scenic...</td>\n",
       "    </tr>\n",
       "    <tr>\n",
       "      <th>61</th>\n",
       "      <td>KICA</td>\n",
       "      <td>[Explore Sequoia Groves, Climb Moro Rock, Visi...</td>\n",
       "      <td>[Photography, Hiking, Stargazing, Boating, Bac...</td>\n",
       "    </tr>\n",
       "  </tbody>\n",
       "</table>\n",
       "<p>62 rows × 3 columns</p>\n",
       "</div>"
      ],
      "text/plain": [
       "    park                                         activities  \\\n",
       "0   ACAD  [Hiking in Acadia, Bicycling, Birdwatching, St...   \n",
       "1   ARCH  [Auto Touring, Backpacking, Biking, Camping, C...   \n",
       "2   BADL  [Visit the Ben Reifel Visitor Center, Visit th...   \n",
       "3   BIBE  [Scenic Drives, Day Hikes, Big Bend River Trip...   \n",
       "4   BISC  [Fishing and Lobstering, Convoy Point Jetty Wa...   \n",
       "..   ...                                                ...   \n",
       "57  NPSA           [Learn more about the Homestay program.]   \n",
       "58  NERI  [Camping, Whitewater, Hiking Trails, Biking, C...   \n",
       "59  VIIS  [Ranger Programs and Guided Tours!, Interactiv...   \n",
       "60  WHSA  [Backcountry Camping, Bicycling, Driving Dunes...   \n",
       "61  KICA  [Explore Sequoia Groves, Climb Moro Rock, Visi...   \n",
       "\n",
       "                                              cleaned  \n",
       "0   [Stargazing, Hiking, Whale Watching, Rock Clim...  \n",
       "1   [Photography, Hiking, Stargazing, Horseback Ri...  \n",
       "2   [Hiking, Stargazing, Boating, Backpacking, Sce...  \n",
       "3   [Bird Watching, Stargazing, Hiking, Whale Watc...  \n",
       "4   [Hiking, Wildlife Viewing, Whale Watching, Sno...  \n",
       "..                                                ...  \n",
       "57                                                 []  \n",
       "58  [Hiking, Wildlife Viewing, Backpacking, Scenic...  \n",
       "59         [Fishing, Rock Climbing, Wildlife Viewing]  \n",
       "60  [Hiking, Horseback Riding, Backpacking, Scenic...  \n",
       "61  [Photography, Hiking, Stargazing, Boating, Bac...  \n",
       "\n",
       "[62 rows x 3 columns]"
      ]
     },
     "execution_count": 97,
     "metadata": {},
     "output_type": "execute_result"
    }
   ],
   "source": [
    "activities_df['cleaned'] = activities_df.apply(lambda x: get_clean_activities(x.activities), axis = 1)\n",
    "activities_df"
   ]
  },
  {
   "cell_type": "code",
   "execution_count": 102,
   "metadata": {},
   "outputs": [
    {
     "data": {
      "text/plain": [
       "[46, 49]"
      ]
     },
     "execution_count": 102,
     "metadata": {},
     "output_type": "execute_result"
    }
   ],
   "source": [
    "# check other websites for Outdoor Activities\n",
    "\n",
    "def check_act(row):\n",
    "    list_prks = []\n",
    "    for i in row:\n",
    "        if 'Outdoor' in i:\n",
    "            list_prks.append(i)\n",
    "    return list_prks\n",
    "\n",
    "ind = []\n",
    "for i in range(len(activities_df)):\n",
    "    outdoor = check_act(activities_df.iloc[i].activities)\n",
    "    if outdoor != []:\n",
    "        ind.append(i)\n",
    "ind"
   ]
  },
  {
   "cell_type": "code",
   "execution_count": 103,
   "metadata": {},
   "outputs": [
    {
     "data": {
      "text/plain": [
       "<AxesSubplot: xlabel='activity'>"
      ]
     },
     "execution_count": 103,
     "metadata": {},
     "output_type": "execute_result"
    },
    {
     "data": {
      "image/png": "[encoded data removed]",
      "text/plain": [
       "<Figure size 640x480 with 1 Axes>"
      ]
     },
     "metadata": {},
     "output_type": "display_data"
    }
   ],
   "source": [
    "list_act = [x for sublist in activities_df.cleaned.tolist() for x in sublist]\n",
    "\n",
    "count_activities = pd.DataFrame()\n",
    "count_activities['activity'] = [x for sublist in activities_df.cleaned.tolist() for x in sublist]\n",
    "count_activities.value_counts('activity').plot(kind='bar')"
   ]
  },
  {
   "cell_type": "code",
   "execution_count": 105,
   "metadata": {},
   "outputs": [],
   "source": [
    "#activities_df.to_csv('activities.csv', index = False)"
   ]
  },
  {
   "cell_type": "code",
   "execution_count": null,
   "metadata": {},
   "outputs": [],
   "source": []
  }
 ],
 "metadata": {
  "kernelspec": {
   "display_name": "Python 3.8.9 64-bit",
   "language": "python",
   "name": "python3"
  },
  "language_info": {
   "codemirror_mode": {
    "name": "ipython",
    "version": 3
   },
   "file_extension": ".py",
   "mimetype": "text/x-python",
   "name": "python",
   "nbconvert_exporter": "python",
   "pygments_lexer": "ipython3",
   "version": "3.8.9"
  },
  "orig_nbformat": 4,
  "vscode": {
   "interpreter": {
    "hash": "31f2aee4e71d21fbe5cf8b01ff0e069b9275f58929596ceb00d14d90e3e16cd6"
   }
  }
 },
 "nbformat": 4,
 "nbformat_minor": 2
}

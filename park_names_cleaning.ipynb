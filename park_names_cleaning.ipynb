{
 "cells": [
  {
   "cell_type": "code",
   "execution_count": 6,
   "id": "0ab27b11-95f8-4475-86c5-0dfa66851c43",
   "metadata": {},
   "outputs": [],
   "source": [
    "import pandas as pd\n",
    "import numpy as np"
   ]
  },
  {
   "cell_type": "markdown",
   "id": "098f07fd-a227-421a-b62d-498b16285e76",
   "metadata": {},
   "source": [
    "**Clean Species Dataset and duplicate Sequoia and Kings Canyon NP Data**"
   ]
  },
  {
   "cell_type": "code",
   "execution_count": 8,
   "id": "85bca72a-75af-4be9-ab59-55bf79ca58fd",
   "metadata": {},
   "outputs": [
    {
     "name": "stderr",
     "output_type": "stream",
     "text": [
      "/var/folders/l8/gbpwq6517hx3v7h__73hszc40000gn/T/ipykernel_20816/1110938241.py:1: DtypeWarning: Columns (3,12,14,15,16) have mixed types. Specify dtype option on import or set low_memory=False.\n",
      "  species = pd.read_csv('assets/all_species.csv')\n"
     ]
    }
   ],
   "source": [
    "species = pd.read_csv('assets/all_species.csv')\n",
    "species.drop(species.columns[species.columns.str.contains('unnamed',case = False)],axis = 1, inplace = True)\n"
   ]
  },
  {
   "cell_type": "code",
   "execution_count": 9,
   "id": "6bd88a3c-0b8a-435c-948f-fdb1a709e03a",
   "metadata": {},
   "outputs": [],
   "source": [
    "newDF = species.loc[species['Park Name']=='Sequoia and Kings Canyon National Park'].copy()\n",
    "# display(newDF.head())"
   ]
  },
  {
   "cell_type": "code",
   "execution_count": 10,
   "id": "83531810-aa38-463d-855d-c87f2a12f90e",
   "metadata": {},
   "outputs": [],
   "source": [
    "newDF['Park Name']=newDF['Park Name'].replace({'Sequoia and Kings Canyon National Park':'Kings Canyon National Park'})\n",
    "newDF['Park Code']=newDF['Park Code'].replace({'SEKI':'KICA'})\n",
    "# display(newDF)"
   ]
  },
  {
   "cell_type": "code",
   "execution_count": 11,
   "id": "cebfa608-fce1-4a2d-8941-633c3c443146",
   "metadata": {},
   "outputs": [],
   "source": [
    "frames = [species, newDF]\n",
    "\n",
    "species = pd.concat(frames)\n",
    "# display(species)"
   ]
  },
  {
   "cell_type": "code",
   "execution_count": 12,
   "id": "8eb85964-8499-40be-bde2-cbf29351b6d2",
   "metadata": {},
   "outputs": [],
   "source": [
    " \n",
    "\n",
    "species['Park Name']=species['Park Name'].replace({'Sequoia and Kings Canyon National Park':'Sequoia National Park'})\n",
    "species['Park Code']=species['Park Code'].replace({'SEKI':'SEQU'})"
   ]
  },
  {
   "cell_type": "markdown",
   "id": "105fa897-344e-4a7b-a19e-b24217e1e29a",
   "metadata": {},
   "source": [
    "**Create new species CSV file**"
   ]
  },
  {
   "cell_type": "code",
   "execution_count": 14,
   "id": "09c1cf9c-a09c-4a09-b6fb-35fe3458d759",
   "metadata": {},
   "outputs": [],
   "source": [
    "species.to_csv('all_species_112222.csv', encoding='utf-8', index=False)"
   ]
  },
  {
   "cell_type": "markdown",
   "id": "972a21eb-1270-450d-a61b-34d469e20e65",
   "metadata": {},
   "source": [
    "**Clean Location Data**"
   ]
  },
  {
   "cell_type": "code",
   "execution_count": 16,
   "id": "dc0b349b-4632-43e8-90d9-ebd623b711e9",
   "metadata": {},
   "outputs": [
    {
     "data": {
      "text/plain": [
       "62"
      ]
     },
     "metadata": {},
     "output_type": "display_data"
    }
   ],
   "source": [
    "locations = pd.read_csv('assets/locations.csv')\n",
    "\n",
    "\n",
    "\n",
    "locations['Park Name']=locations['Park Name'].replace({'Sequoia and Kings Canyon National Parks':'Kings Canyon National Park'})\n",
    "locations['Park Code']=locations['Park Code'].replace({'SEKI':'KICA'})\n",
    "locations['Acres']=locations['Acres'].replace({865952:461901})\n",
    "locations['Latitude']=locations['Latitude'].replace({36.43:36.88})\n",
    "locations['Longitude']=locations['Longitude'].replace({-118.68:-118.56})\n",
    "\n",
    "##update park names##\n",
    "locations['Park Name']=locations['Park Name'].replace({'Denali National Park and Preserve':'Denali National Park'})\n",
    "locations['Park Name']=locations['Park Name'].replace({'Gates Of The Arctic National Park and Preserve':'Gates Of The Arctic National Park'})\n",
    "locations['Park Name']=locations['Park Name'].replace({'Glacier Bay National Park and Preserve':'Glacier Bay National Park'})\n",
    "locations['Park Name']=locations['Park Name'].replace({'Great Sand Dunes National Park and Preserve':'Great Sand Dunes National Park'})\n",
    "locations['Park Name']=locations['Park Name'].replace({'Katmai National Park and Preserve':'Katmai National Park'})\n",
    "locations['Park Name']=locations['Park Name'].replace({'Lake Clark National Park and Preserve':'Lake Clark National Park'})\n",
    "locations['Park Name']=locations['Park Name'].replace({'Wrangell - St Elias National Park and Preserve':'Wrangell - St Elias National Park'})\n",
    "locations['Park Name']=locations['Park Name'].replace({'New River Gorge National Park':'New River Gorge National Park and Preserve'})\n",
    "\n",
    "\n",
    "\n",
    "locations.loc[len(locations.index)] = [61, 'SEQU', 'Sequoia National Park', 'CA', 328315, 36.47, -118.57, 0] \n",
    "\n",
    "locations.loc[locations['Park Name']=='Kings Canyon National Park']\n",
    "locations.loc[locations['Park Name']=='Sequoia National Park']\n",
    "display(len(locations['Park Name'].unique()))"
   ]
  },
  {
   "cell_type": "markdown",
   "id": "911da2b1-77b5-4ea8-8baa-ef33b650a4e4",
   "metadata": {},
   "source": [
    "**Clean Weather Data**"
   ]
  },
  {
   "cell_type": "code",
   "execution_count": 17,
   "id": "482fbd1b-4404-4b00-9bd7-910567b34bf7",
   "metadata": {},
   "outputs": [],
   "source": [
    "weather = pd.read_csv('assets/NPS_weather_trends.csv')"
   ]
  },
  {
   "cell_type": "code",
   "execution_count": 11,
   "id": "1a37f98a-2966-44f3-8f9d-75c54d7fa7e9",
   "metadata": {},
   "outputs": [],
   "source": [
    "# display(weather.ParkName.unique())"
   ]
  },
  {
   "cell_type": "code",
   "execution_count": 19,
   "id": "5fcbd6bb-c5c5-4ad4-adad-fef2cba58d5c",
   "metadata": {},
   "outputs": [],
   "source": [
    "#Weather: Gates of the Arctic National Park\n",
    "#Species: Gates Of The Arctic National Park\n",
    "#Weather:  Gateway Arch National Park\n",
    "#Species:  Removed\n",
    "#Weather:  Kings Canyon National Park\n",
    "#Species: Sequoia and Kings Canyon National Park\n",
    "#Weather:  New River Gorge National Park\n",
    "#Species:  New River Gorge National Park and Preserve\n",
    "#Weather:  Sequoia National Park\n",
    "#Species:  Sequoia and Kings Canyon National Park\n",
    "#Weather:  Wrangell-St. Elias National Park\n",
    "#Species: Wrangell - St Elias National Park"
   ]
  },
  {
   "cell_type": "code",
   "execution_count": 20,
   "id": "fa0aa182-1fa0-4d41-b687-b61da04e14f6",
   "metadata": {},
   "outputs": [],
   "source": [
    "# display(weather.loc[weather.ParkName=='Kings Canyon National Park'])"
   ]
  },
  {
   "cell_type": "code",
   "execution_count": 21,
   "id": "959f8dfa-f73a-4706-a5b3-50c8077ee9be",
   "metadata": {},
   "outputs": [],
   "source": [
    "# display(weather.ParkName.unique())"
   ]
  },
  {
   "cell_type": "code",
   "execution_count": 22,
   "id": "a843ce73-620f-4e69-9187-af273964dc76",
   "metadata": {},
   "outputs": [],
   "source": [
    "weather['ParkName']=weather['ParkName'].replace({'Gates of the Arctic National Park':'Gates Of The Arctic National Park'})\n",
    "weather['ParkName']=weather['ParkName'].replace({'New River Gorge National Park':'New River Gorge National Park and Preserve'})\n",
    "weather['ParkName']=weather['ParkName'].replace({'Wrangell-St. Elias National Park':'Wrangell - St Elias National Park'})\n",
    "# weather['ParkName']=weather['ParkName'].replace({'Sequoia National Park':'Sequoia and Kings Canyon National Park'})\n"
   ]
  },
  {
   "cell_type": "code",
   "execution_count": 25,
   "id": "ad5e665a-5fd6-4288-a655-a29cbc76702e",
   "metadata": {},
   "outputs": [],
   "source": [
    "weather.drop(weather.loc[weather['ParkName']=='Gateway Arch National Park'].index, inplace=True)"
   ]
  },
  {
   "cell_type": "code",
   "execution_count": 26,
   "id": "3d82e87b-c31f-4279-b122-972ee0bd5b87",
   "metadata": {},
   "outputs": [
    {
     "data": {
      "text/html": [
       "<div>\n",
       "<style scoped>\n",
       "    .dataframe tbody tr th:only-of-type {\n",
       "        vertical-align: middle;\n",
       "    }\n",
       "\n",
       "    .dataframe tbody tr th {\n",
       "        vertical-align: top;\n",
       "    }\n",
       "\n",
       "    .dataframe thead th {\n",
       "        text-align: right;\n",
       "    }\n",
       "</style>\n",
       "<table border=\"1\" class=\"dataframe\">\n",
       "  <thead>\n",
       "    <tr style=\"text-align: right;\">\n",
       "      <th></th>\n",
       "      <th>ParkName</th>\n",
       "      <th>UnitCode</th>\n",
       "      <th>ParkType</th>\n",
       "      <th>Region</th>\n",
       "      <th>State</th>\n",
       "      <th>Year</th>\n",
       "      <th>Month</th>\n",
       "      <th>RecreationVisits</th>\n",
       "      <th>NonRecreationVisits</th>\n",
       "      <th>RecreationHours</th>\n",
       "      <th>...</th>\n",
       "      <th>ConcessionerLodgingTotal</th>\n",
       "      <th>ConcessionerCampingTotal</th>\n",
       "      <th>TentCampersTotal</th>\n",
       "      <th>RVCampersTotal</th>\n",
       "      <th>BackcountryTotal</th>\n",
       "      <th>NonRecreationOvernightStaysTotal</th>\n",
       "      <th>MiscellaneousOvernightStaysTotal</th>\n",
       "      <th>Google_Searches</th>\n",
       "      <th>Temp_Avg_Fahrenheit</th>\n",
       "      <th>Prcp_Avg_Inches</th>\n",
       "    </tr>\n",
       "  </thead>\n",
       "  <tbody>\n",
       "    <tr>\n",
       "      <th>10595</th>\n",
       "      <td>Sequoia National Park</td>\n",
       "      <td>SEQU</td>\n",
       "      <td>National Park</td>\n",
       "      <td>Pacific West</td>\n",
       "      <td>CA</td>\n",
       "      <td>2005</td>\n",
       "      <td>1</td>\n",
       "      <td>32102</td>\n",
       "      <td>249</td>\n",
       "      <td>154091</td>\n",
       "      <td>...</td>\n",
       "      <td>75955</td>\n",
       "      <td>0</td>\n",
       "      <td>100645</td>\n",
       "      <td>31128</td>\n",
       "      <td>18118</td>\n",
       "      <td>0</td>\n",
       "      <td>5899</td>\n",
       "      <td>33</td>\n",
       "      <td>45.82</td>\n",
       "      <td>4.250</td>\n",
       "    </tr>\n",
       "    <tr>\n",
       "      <th>10596</th>\n",
       "      <td>Sequoia National Park</td>\n",
       "      <td>SEQU</td>\n",
       "      <td>National Park</td>\n",
       "      <td>Pacific West</td>\n",
       "      <td>CA</td>\n",
       "      <td>2005</td>\n",
       "      <td>2</td>\n",
       "      <td>28188</td>\n",
       "      <td>153</td>\n",
       "      <td>135302</td>\n",
       "      <td>...</td>\n",
       "      <td>75955</td>\n",
       "      <td>0</td>\n",
       "      <td>100645</td>\n",
       "      <td>31128</td>\n",
       "      <td>18118</td>\n",
       "      <td>0</td>\n",
       "      <td>5899</td>\n",
       "      <td>42</td>\n",
       "      <td>45.06</td>\n",
       "      <td>3.674</td>\n",
       "    </tr>\n",
       "    <tr>\n",
       "      <th>10597</th>\n",
       "      <td>Sequoia National Park</td>\n",
       "      <td>SEQU</td>\n",
       "      <td>National Park</td>\n",
       "      <td>Pacific West</td>\n",
       "      <td>CA</td>\n",
       "      <td>2005</td>\n",
       "      <td>3</td>\n",
       "      <td>43344</td>\n",
       "      <td>301</td>\n",
       "      <td>208053</td>\n",
       "      <td>...</td>\n",
       "      <td>75955</td>\n",
       "      <td>0</td>\n",
       "      <td>100645</td>\n",
       "      <td>31128</td>\n",
       "      <td>18118</td>\n",
       "      <td>0</td>\n",
       "      <td>5899</td>\n",
       "      <td>40</td>\n",
       "      <td>47.02</td>\n",
       "      <td>3.249</td>\n",
       "    </tr>\n",
       "    <tr>\n",
       "      <th>10598</th>\n",
       "      <td>Sequoia National Park</td>\n",
       "      <td>SEQU</td>\n",
       "      <td>National Park</td>\n",
       "      <td>Pacific West</td>\n",
       "      <td>CA</td>\n",
       "      <td>2005</td>\n",
       "      <td>4</td>\n",
       "      <td>55739</td>\n",
       "      <td>356</td>\n",
       "      <td>2028903</td>\n",
       "      <td>...</td>\n",
       "      <td>75955</td>\n",
       "      <td>0</td>\n",
       "      <td>100645</td>\n",
       "      <td>31128</td>\n",
       "      <td>18118</td>\n",
       "      <td>0</td>\n",
       "      <td>5899</td>\n",
       "      <td>54</td>\n",
       "      <td>52.40</td>\n",
       "      <td>2.143</td>\n",
       "    </tr>\n",
       "    <tr>\n",
       "      <th>10599</th>\n",
       "      <td>Sequoia National Park</td>\n",
       "      <td>SEQU</td>\n",
       "      <td>National Park</td>\n",
       "      <td>Pacific West</td>\n",
       "      <td>CA</td>\n",
       "      <td>2005</td>\n",
       "      <td>5</td>\n",
       "      <td>111303</td>\n",
       "      <td>362</td>\n",
       "      <td>4051442</td>\n",
       "      <td>...</td>\n",
       "      <td>75955</td>\n",
       "      <td>0</td>\n",
       "      <td>100645</td>\n",
       "      <td>31128</td>\n",
       "      <td>18118</td>\n",
       "      <td>0</td>\n",
       "      <td>5899</td>\n",
       "      <td>84</td>\n",
       "      <td>57.55</td>\n",
       "      <td>1.438</td>\n",
       "    </tr>\n",
       "  </tbody>\n",
       "</table>\n",
       "<p>5 rows × 38 columns</p>\n",
       "</div>"
      ],
      "text/plain": [
       "                    ParkName UnitCode       ParkType         Region State  \\\n",
       "10595  Sequoia National Park     SEQU  National Park  Pacific West     CA   \n",
       "10596  Sequoia National Park     SEQU  National Park  Pacific West     CA   \n",
       "10597  Sequoia National Park     SEQU  National Park  Pacific West     CA   \n",
       "10598  Sequoia National Park     SEQU  National Park  Pacific West     CA   \n",
       "10599  Sequoia National Park     SEQU  National Park  Pacific West     CA   \n",
       "\n",
       "       Year  Month  RecreationVisits  NonRecreationVisits  RecreationHours  \\\n",
       "10595  2005      1             32102                  249           154091   \n",
       "10596  2005      2             28188                  153           135302   \n",
       "10597  2005      3             43344                  301           208053   \n",
       "10598  2005      4             55739                  356          2028903   \n",
       "10599  2005      5            111303                  362          4051442   \n",
       "\n",
       "       ...  ConcessionerLodgingTotal  ConcessionerCampingTotal  \\\n",
       "10595  ...                     75955                         0   \n",
       "10596  ...                     75955                         0   \n",
       "10597  ...                     75955                         0   \n",
       "10598  ...                     75955                         0   \n",
       "10599  ...                     75955                         0   \n",
       "\n",
       "       TentCampersTotal  RVCampersTotal  BackcountryTotal  \\\n",
       "10595            100645           31128             18118   \n",
       "10596            100645           31128             18118   \n",
       "10597            100645           31128             18118   \n",
       "10598            100645           31128             18118   \n",
       "10599            100645           31128             18118   \n",
       "\n",
       "       NonRecreationOvernightStaysTotal  MiscellaneousOvernightStaysTotal  \\\n",
       "10595                                 0                              5899   \n",
       "10596                                 0                              5899   \n",
       "10597                                 0                              5899   \n",
       "10598                                 0                              5899   \n",
       "10599                                 0                              5899   \n",
       "\n",
       "       Google_Searches Temp_Avg_Fahrenheit Prcp_Avg_Inches  \n",
       "10595               33               45.82           4.250  \n",
       "10596               42               45.06           3.674  \n",
       "10597               40               47.02           3.249  \n",
       "10598               54               52.40           2.143  \n",
       "10599               84               57.55           1.438  \n",
       "\n",
       "[5 rows x 38 columns]"
      ]
     },
     "execution_count": 26,
     "metadata": {},
     "output_type": "execute_result"
    }
   ],
   "source": [
    "weather.loc[weather.ParkName=='Sequoia National Park'].head()\n",
    "# display(len(weather.ParkName.unique()))"
   ]
  },
  {
   "cell_type": "code",
   "execution_count": 27,
   "id": "3c831e61-1b32-4e8a-aeba-a5b1746ec21e",
   "metadata": {},
   "outputs": [
    {
     "data": {
      "text/html": [
       "<div>\n",
       "<style scoped>\n",
       "    .dataframe tbody tr th:only-of-type {\n",
       "        vertical-align: middle;\n",
       "    }\n",
       "\n",
       "    .dataframe tbody tr th {\n",
       "        vertical-align: top;\n",
       "    }\n",
       "\n",
       "    .dataframe thead th {\n",
       "        text-align: right;\n",
       "    }\n",
       "</style>\n",
       "<table border=\"1\" class=\"dataframe\">\n",
       "  <thead>\n",
       "    <tr style=\"text-align: right;\">\n",
       "      <th></th>\n",
       "      <th>ParkName</th>\n",
       "      <th>UnitCode</th>\n",
       "      <th>ParkType</th>\n",
       "      <th>Region</th>\n",
       "      <th>State</th>\n",
       "      <th>Year</th>\n",
       "      <th>Month</th>\n",
       "      <th>RecreationVisits</th>\n",
       "      <th>NonRecreationVisits</th>\n",
       "      <th>RecreationHours</th>\n",
       "      <th>...</th>\n",
       "      <th>ConcessionerLodgingTotal</th>\n",
       "      <th>ConcessionerCampingTotal</th>\n",
       "      <th>TentCampersTotal</th>\n",
       "      <th>RVCampersTotal</th>\n",
       "      <th>BackcountryTotal</th>\n",
       "      <th>NonRecreationOvernightStaysTotal</th>\n",
       "      <th>MiscellaneousOvernightStaysTotal</th>\n",
       "      <th>Google_Searches</th>\n",
       "      <th>Temp_Avg_Fahrenheit</th>\n",
       "      <th>Prcp_Avg_Inches</th>\n",
       "    </tr>\n",
       "  </thead>\n",
       "  <tbody>\n",
       "    <tr>\n",
       "      <th>7343</th>\n",
       "      <td>Kings Canyon National Park</td>\n",
       "      <td>KICA</td>\n",
       "      <td>National Park</td>\n",
       "      <td>Pacific West</td>\n",
       "      <td>CA</td>\n",
       "      <td>2005</td>\n",
       "      <td>1</td>\n",
       "      <td>17858</td>\n",
       "      <td>1001</td>\n",
       "      <td>85720</td>\n",
       "      <td>...</td>\n",
       "      <td>34785</td>\n",
       "      <td>0</td>\n",
       "      <td>71131</td>\n",
       "      <td>32123</td>\n",
       "      <td>12793</td>\n",
       "      <td>0</td>\n",
       "      <td>17223</td>\n",
       "      <td>40</td>\n",
       "      <td>44.47</td>\n",
       "      <td>4.516</td>\n",
       "    </tr>\n",
       "    <tr>\n",
       "      <th>7344</th>\n",
       "      <td>Kings Canyon National Park</td>\n",
       "      <td>KICA</td>\n",
       "      <td>National Park</td>\n",
       "      <td>Pacific West</td>\n",
       "      <td>CA</td>\n",
       "      <td>2005</td>\n",
       "      <td>2</td>\n",
       "      <td>17338</td>\n",
       "      <td>847</td>\n",
       "      <td>83224</td>\n",
       "      <td>...</td>\n",
       "      <td>34785</td>\n",
       "      <td>0</td>\n",
       "      <td>71131</td>\n",
       "      <td>32123</td>\n",
       "      <td>12793</td>\n",
       "      <td>0</td>\n",
       "      <td>17223</td>\n",
       "      <td>43</td>\n",
       "      <td>44.28</td>\n",
       "      <td>3.777</td>\n",
       "    </tr>\n",
       "    <tr>\n",
       "      <th>7345</th>\n",
       "      <td>Kings Canyon National Park</td>\n",
       "      <td>KICA</td>\n",
       "      <td>National Park</td>\n",
       "      <td>Pacific West</td>\n",
       "      <td>CA</td>\n",
       "      <td>2005</td>\n",
       "      <td>3</td>\n",
       "      <td>24369</td>\n",
       "      <td>921</td>\n",
       "      <td>116970</td>\n",
       "      <td>...</td>\n",
       "      <td>34785</td>\n",
       "      <td>0</td>\n",
       "      <td>71131</td>\n",
       "      <td>32123</td>\n",
       "      <td>12793</td>\n",
       "      <td>0</td>\n",
       "      <td>17223</td>\n",
       "      <td>16</td>\n",
       "      <td>46.63</td>\n",
       "      <td>3.299</td>\n",
       "    </tr>\n",
       "    <tr>\n",
       "      <th>7346</th>\n",
       "      <td>Kings Canyon National Park</td>\n",
       "      <td>KICA</td>\n",
       "      <td>National Park</td>\n",
       "      <td>Pacific West</td>\n",
       "      <td>CA</td>\n",
       "      <td>2005</td>\n",
       "      <td>4</td>\n",
       "      <td>28788</td>\n",
       "      <td>1147</td>\n",
       "      <td>1047890</td>\n",
       "      <td>...</td>\n",
       "      <td>34785</td>\n",
       "      <td>0</td>\n",
       "      <td>71131</td>\n",
       "      <td>32123</td>\n",
       "      <td>12793</td>\n",
       "      <td>0</td>\n",
       "      <td>17223</td>\n",
       "      <td>68</td>\n",
       "      <td>52.47</td>\n",
       "      <td>1.954</td>\n",
       "    </tr>\n",
       "    <tr>\n",
       "      <th>7347</th>\n",
       "      <td>Kings Canyon National Park</td>\n",
       "      <td>KICA</td>\n",
       "      <td>National Park</td>\n",
       "      <td>Pacific West</td>\n",
       "      <td>CA</td>\n",
       "      <td>2005</td>\n",
       "      <td>5</td>\n",
       "      <td>57008</td>\n",
       "      <td>1910</td>\n",
       "      <td>2075101</td>\n",
       "      <td>...</td>\n",
       "      <td>34785</td>\n",
       "      <td>0</td>\n",
       "      <td>71131</td>\n",
       "      <td>32123</td>\n",
       "      <td>12793</td>\n",
       "      <td>0</td>\n",
       "      <td>17223</td>\n",
       "      <td>45</td>\n",
       "      <td>58.35</td>\n",
       "      <td>1.438</td>\n",
       "    </tr>\n",
       "  </tbody>\n",
       "</table>\n",
       "<p>5 rows × 38 columns</p>\n",
       "</div>"
      ],
      "text/plain": [
       "                        ParkName UnitCode       ParkType         Region State  \\\n",
       "7343  Kings Canyon National Park     KICA  National Park  Pacific West     CA   \n",
       "7344  Kings Canyon National Park     KICA  National Park  Pacific West     CA   \n",
       "7345  Kings Canyon National Park     KICA  National Park  Pacific West     CA   \n",
       "7346  Kings Canyon National Park     KICA  National Park  Pacific West     CA   \n",
       "7347  Kings Canyon National Park     KICA  National Park  Pacific West     CA   \n",
       "\n",
       "      Year  Month  RecreationVisits  NonRecreationVisits  RecreationHours  \\\n",
       "7343  2005      1             17858                 1001            85720   \n",
       "7344  2005      2             17338                  847            83224   \n",
       "7345  2005      3             24369                  921           116970   \n",
       "7346  2005      4             28788                 1147          1047890   \n",
       "7347  2005      5             57008                 1910          2075101   \n",
       "\n",
       "      ...  ConcessionerLodgingTotal  ConcessionerCampingTotal  \\\n",
       "7343  ...                     34785                         0   \n",
       "7344  ...                     34785                         0   \n",
       "7345  ...                     34785                         0   \n",
       "7346  ...                     34785                         0   \n",
       "7347  ...                     34785                         0   \n",
       "\n",
       "      TentCampersTotal  RVCampersTotal  BackcountryTotal  \\\n",
       "7343             71131           32123             12793   \n",
       "7344             71131           32123             12793   \n",
       "7345             71131           32123             12793   \n",
       "7346             71131           32123             12793   \n",
       "7347             71131           32123             12793   \n",
       "\n",
       "      NonRecreationOvernightStaysTotal  MiscellaneousOvernightStaysTotal  \\\n",
       "7343                                 0                             17223   \n",
       "7344                                 0                             17223   \n",
       "7345                                 0                             17223   \n",
       "7346                                 0                             17223   \n",
       "7347                                 0                             17223   \n",
       "\n",
       "      Google_Searches Temp_Avg_Fahrenheit Prcp_Avg_Inches  \n",
       "7343               40               44.47           4.516  \n",
       "7344               43               44.28           3.777  \n",
       "7345               16               46.63           3.299  \n",
       "7346               68               52.47           1.954  \n",
       "7347               45               58.35           1.438  \n",
       "\n",
       "[5 rows x 38 columns]"
      ]
     },
     "execution_count": 27,
     "metadata": {},
     "output_type": "execute_result"
    }
   ],
   "source": [
    "weather.loc[weather.ParkName=='Kings Canyon National Park'].head()\n",
    "# display(sandkc)"
   ]
  },
  {
   "cell_type": "code",
   "execution_count": 28,
   "id": "8e04c0b0-fb03-4361-9ed2-a462e8b185a1",
   "metadata": {},
   "outputs": [],
   "source": [
    "# kc = weather[['Temp_Avg_Fahrenheit','Prcp_Avg_Inches']].loc[weather['ParkName']=='Kings Canyon National Park']\n",
    "# display(kc)"
   ]
  },
  {
   "cell_type": "markdown",
   "id": "10bbaa78-dbcb-439a-9698-bb7bc9c92dcd",
   "metadata": {},
   "source": [
    "**Create new location and weather csv files**"
   ]
  },
  {
   "cell_type": "code",
   "execution_count": 29,
   "id": "f17bab26-526e-4b6e-bf32-3a61667e5006",
   "metadata": {},
   "outputs": [],
   "source": [
    "# display(weather.ParkName.unique())\n",
    "locations.to_csv('locations_112222.csv', encoding='utf-8', index=False)\n",
    "weather.to_csv('NPS_weather_trends_112222.csv', encoding='utf-8', index=False)"
   ]
  },
  {
   "cell_type": "markdown",
   "id": "0e060624-8032-45d4-b8f8-fb49e3628637",
   "metadata": {},
   "source": [
    "**Triple check to make sure all park names match**"
   ]
  },
  {
   "cell_type": "code",
   "execution_count": 30,
   "id": "27bef021-2b45-40b9-874a-b69833224719",
   "metadata": {},
   "outputs": [],
   "source": [
    "for park in list(locations['Park Name'].unique()):\n",
    "    if park not in list(weather['ParkName'].unique()):\n",
    "        print(park)"
   ]
  },
  {
   "cell_type": "code",
   "execution_count": 31,
   "id": "4fc18025-1f9e-4d11-a9b4-c517232f832d",
   "metadata": {},
   "outputs": [],
   "source": [
    "for park in list(locations['Park Name'].unique()):\n",
    "    if park not in list(species['Park Name'].unique()):\n",
    "        print(park)"
   ]
  },
  {
   "cell_type": "code",
   "execution_count": 32,
   "id": "63a6a01c-160f-46e7-9910-9860b4cea0a8",
   "metadata": {},
   "outputs": [],
   "source": [
    "for park in list(weather['ParkName'].unique()):\n",
    "    if park not in list(species['Park Name'].unique()):\n",
    "        print(park)"
   ]
  },
  {
   "cell_type": "code",
   "execution_count": 34,
   "id": "86b8f1ab-08c8-4546-91bb-7a822d9f201b",
   "metadata": {},
   "outputs": [],
   "source": [
    "# display(locations)"
   ]
  },
  {
   "cell_type": "code",
   "execution_count": 35,
   "id": "0221e65e-8f80-41b1-8845-102c96469050",
   "metadata": {},
   "outputs": [],
   "source": [
    "# display(species)"
   ]
  },
  {
   "cell_type": "code",
   "execution_count": null,
   "id": "9589c4bc-2113-464c-a1d6-3a9c66b9f2c8",
   "metadata": {},
   "outputs": [],
   "source": []
  }
 ],
 "metadata": {
  "kernelspec": {
   "display_name": "Python 3",
   "language": "python",
   "name": "python3"
  },
  "language_info": {
   "codemirror_mode": {
    "name": "ipython",
    "version": 3
   },
   "file_extension": ".py",
   "mimetype": "text/x-python",
   "name": "python",
   "nbconvert_exporter": "python",
   "pygments_lexer": "ipython3",
   "version": "3.10.8"
  }
 },
 "nbformat": 4,
 "nbformat_minor": 5
}
